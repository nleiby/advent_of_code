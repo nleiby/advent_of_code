{
 "cells": [
  {
   "cell_type": "code",
   "execution_count": null,
   "metadata": {
    "collapsed": true
   },
   "outputs": [],
   "source": [
    "import requests\n",
    "from collections import Counter\n"
   ]
  },
  {
   "cell_type": "code",
   "execution_count": null,
   "metadata": {
    "collapsed": false
   },
   "outputs": [],
   "source": [
    "def get_data(url):\n",
    "    my_account_session = {'session':'53616c7465645f5faba463d100f6273c21089254eefffbf46d58d484f58428967016c2fd079442b028490b8cff732c90'}\n",
    "    response = requests.get(url, cookies=my_account_session)\n",
    "    data = response.text\n",
    "    return data"
   ]
  },
  {
   "cell_type": "code",
   "execution_count": null,
   "metadata": {
    "collapsed": false
   },
   "outputs": [],
   "source": [
    "# Day 1 Part 1\n",
    "url = 'http://adventofcode.com/day/1/input'\n",
    "data = get_data(url)\n",
    "c = Counter()\n",
    "c.update(data)\n",
    "# up a floor is represented by (, down by )\n",
    "final_floor = c['('] - c[')']\n",
    "final_floor"
   ]
  },
  {
   "cell_type": "code",
   "execution_count": null,
   "metadata": {
    "collapsed": false
   },
   "outputs": [],
   "source": [
    "# day 1 part 2\n",
    "current_floor = 0\n",
    "for i, step in enumerate(data):\n",
    "    if step == '(':\n",
    "        current_floor +=1\n",
    "    else:\n",
    "        current_floor -=1\n",
    "    if current_floor < 0:\n",
    "        # oops- messed up already.  Only 2 problems in cs: naming things, cache invalidation, and off by one errors\n",
    "        print i +1 \n",
    "        break"
   ]
  },
  {
   "cell_type": "code",
   "execution_count": null,
   "metadata": {
    "collapsed": false
   },
   "outputs": [],
   "source": [
    "# day 2 part 1\n",
    "url = 'http://adventofcode.com/day/2/input'\n",
    "data = get_data(url).strip()\n",
    "str_dims = [present.split('x') for present in data.split('\\n')]\n",
    "present_dims = [[int(dim) for dim in present] for present in str_dims]"
   ]
  },
  {
   "cell_type": "code",
   "execution_count": null,
   "metadata": {
    "collapsed": true
   },
   "outputs": [],
   "source": [
    "def get_smallest_2_dimensions(present):\n",
    "    slack_dims = sorted(present)[0:2]\n",
    "    return slack_dims\n",
    "# tests- can't get doctests to work in ipython\n",
    "assert get_smallest_2_dimensions([3,2,1]) == [1,2]\n",
    "assert get_smallest_2_dimensions([3,2,4]) == [2,3]"
   ]
  },
  {
   "cell_type": "code",
   "execution_count": null,
   "metadata": {
    "collapsed": false
   },
   "outputs": [],
   "source": [
    "def calc_area_for_present(present):\n",
    "    \"\"\"\n",
    "    present is a 3 element list with length, width, and height. \n",
    "    >>> calc_area_for_present([3,2,1])\n",
    "    26\n",
    "    \"\"\"\n",
    "    l, w, h = present\n",
    "    present_area = 2*(l*w + l*h + w*h)\n",
    "    slack_dims = get_smallest_2_dimensions(present)\n",
    "    slack_area = slack_dims[0] * slack_dims[1]\n",
    "    return present_area + slack_area\n",
    "# tests- can't get doctests to work in ipython\n",
    "assert calc_area_for_present([3,2,1]) == 24\n",
    "assert calc_area_for_present([3,2,4]) == 58"
   ]
  },
  {
   "cell_type": "code",
   "execution_count": null,
   "metadata": {
    "collapsed": false
   },
   "outputs": [],
   "source": [
    "total_area = 0\n",
    "for present in present_dims:\n",
    "    area = calc_area_for_present(present)\n",
    "    total_area += area\n",
    "total_area"
   ]
  },
  {
   "cell_type": "code",
   "execution_count": null,
   "metadata": {
    "collapsed": false
   },
   "outputs": [],
   "source": [
    "# day 2 part 2 \n",
    "# added the refactor for get_smallest_2_dimensions\n",
    "def get_perimeter_for_present(present):\n",
    "    dims = get_smallest_2_dimensions(present)\n",
    "    perimeter = sum([2*x for x in dims])\n",
    "    return perimeter\n",
    "assert get_perimeter_for_present([3,2,1]) == 6\n",
    "assert get_perimeter_for_present([3,2,4]) == 10"
   ]
  },
  {
   "cell_type": "code",
   "execution_count": null,
   "metadata": {
    "collapsed": false
   },
   "outputs": [],
   "source": [
    "def get_ribbon_for_bow(present):\n",
    "    l, w, h = present\n",
    "    bow = l * w * h\n",
    "    return bow"
   ]
  },
  {
   "cell_type": "code",
   "execution_count": null,
   "metadata": {
    "collapsed": false
   },
   "outputs": [],
   "source": [
    "total_ribbon = 0\n",
    "for present in present_dims:\n",
    "    perimeter = get_perimeter_for_present(present)\n",
    "    bow = get_ribbon_for_bow(present)\n",
    "    total_ribbon += (perimeter + bow)\n",
    "total_ribbon"
   ]
  },
  {
   "cell_type": "code",
   "execution_count": null,
   "metadata": {
    "collapsed": false
   },
   "outputs": [],
   "source": [
    "# day 3 part 1\n",
    "url = 'http://adventofcode.com/day/3/input'\n",
    "data = get_data(url).strip()"
   ]
  },
  {
   "cell_type": "code",
   "execution_count": null,
   "metadata": {
    "collapsed": true
   },
   "outputs": [],
   "source": [
    "def update_position(position, next_move):\n",
    "    \"\"\"\n",
    "    Position is an (x,y) coordinate tuple\n",
    "    next move is a single character determining the change in position relative to the last coordinates\n",
    "    returns a tuple showing the new position after the move\n",
    "    \"\"\"\n",
    "    position_mutable = list(position)\n",
    "    if next_move == '<':\n",
    "        position_mutable[0] -= 1\n",
    "    elif next_move == '>':\n",
    "        position_mutable[0] += 1\n",
    "    elif next_move == '^':\n",
    "        position_mutable[1] += 1   \n",
    "    elif next_move == 'v':\n",
    "        position_mutable[1] -= 1\n",
    "    return tuple(position_mutable)\n",
    "\n",
    "assert update_position((0,1), 'v') == (0, 0)\n",
    "assert update_position((-7,1), '<') == (-8, 1)\n",
    "assert update_position((-7,1), '^') == (-7, 2)\n"
   ]
  },
  {
   "cell_type": "code",
   "execution_count": null,
   "metadata": {
    "collapsed": false
   },
   "outputs": [],
   "source": [
    "visits = Counter()\n",
    "position = (0,0)\n",
    "for instruction in data:\n",
    "    position = update_position(position, instruction)\n",
    "    visits.update([position])\n",
    "number_of_houses_visited = len(visits)\n",
    "number_of_houses_visited"
   ]
  },
  {
   "cell_type": "code",
   "execution_count": null,
   "metadata": {
    "collapsed": false
   },
   "outputs": [],
   "source": [
    "# day 3 part 2\n",
    "visits = Counter()\n",
    "santa_position = (0,0)\n",
    "robo_position = (0,0)\n",
    "for i, instruction in enumerate(data):\n",
    "    # the modulo determines whose turn it is to receive the instruction\n",
    "    if i % 2 == 0:\n",
    "        santa_position = update_position(santa_position, instruction)\n",
    "        visits.update([santa_position])\n",
    "    else:\n",
    "        robo_position = update_position(robo_position, instruction)\n",
    "        visits.update([robo_position])\n",
    "number_of_houses_visited = len(visits)\n",
    "number_of_houses_visited      "
   ]
  },
  {
   "cell_type": "code",
   "execution_count": null,
   "metadata": {
    "collapsed": false
   },
   "outputs": [],
   "source": [
    "# day 4\n",
    "data = 'yzbqklnj'\n",
    "import hashlib"
   ]
  },
  {
   "cell_type": "code",
   "execution_count": null,
   "metadata": {
    "collapsed": true
   },
   "outputs": [],
   "source": [
    "def check_hash_value_is_adventcoint(input_str, i, num_zeros):\n",
    "    m = hashlib.md5()\n",
    "    str_to_hash = input_str + str(i)\n",
    "    m.update(str_to_hash)\n",
    "    hash_value = m.hexdigest()\n",
    "    if hash_value[0:num_zeros] == '0' * num_zeros:\n",
    "        return True\n",
    "    return False\n",
    "assert check_hash_value_is_adventcoint('abcdef', 609043, num_zeros=5) == True"
   ]
  },
  {
   "cell_type": "code",
   "execution_count": null,
   "metadata": {
    "collapsed": false
   },
   "outputs": [],
   "source": [
    "for i in xrange(1000000):\n",
    "    if check_hash_value_is_adventcoint(data, i, num_zeros=5):\n",
    "        print(i)\n",
    "        break\n",
    "else:\n",
    "    print 'no match found'"
   ]
  },
  {
   "cell_type": "code",
   "execution_count": null,
   "metadata": {
    "collapsed": false
   },
   "outputs": [],
   "source": [
    "# day 4 part 2\n",
    "# refactored to include num_zeros\n",
    "for i in xrange(10000000):\n",
    "    if check_hash_value_is_adventcoint(data, i, num_zeros=6):\n",
    "        print(i)\n",
    "        break\n",
    "else:\n",
    "    print('no match found')"
   ]
  },
  {
   "cell_type": "code",
   "execution_count": null,
   "metadata": {
    "collapsed": true
   },
   "outputs": [],
   "source": [
    "# day 5\n",
    "data = get_data('http://adventofcode.com/day/5/input').strip()\n",
    "strings = data.split('\\n')"
   ]
  },
  {
   "cell_type": "code",
   "execution_count": null,
   "metadata": {
    "collapsed": true
   },
   "outputs": [],
   "source": [
    "def string_contains_bad_substring(st):\n",
    "    bad_substrings = {'ab', 'cd', 'pq', 'xy'}\n",
    "    for bad_substring in bad_substrings:\n",
    "        if bad_substring in st:\n",
    "            return True\n",
    "    return False\n",
    "assert string_contains_bad_substring('abc') == True\n",
    "assert string_contains_bad_substring('acb') == False"
   ]
  },
  {
   "cell_type": "code",
   "execution_count": null,
   "metadata": {
    "collapsed": false
   },
   "outputs": [],
   "source": [
    "def string_contains_three_vowels(st, min_vowels=3):\n",
    "    num_vowels = 0\n",
    "    vowels = {'a', 'e', 'i', 'o', 'u'}\n",
    "    for letter in st:\n",
    "        if letter in vowels:\n",
    "              num_vowels += 1\n",
    "        if num_vowels >= min_vowels:\n",
    "              return True\n",
    "    return False\n",
    "              \n",
    "assert string_contains_three_vowels('aab') == False\n",
    "assert string_contains_three_vowels('aei') == True "
   ]
  },
  {
   "cell_type": "code",
   "execution_count": null,
   "metadata": {
    "collapsed": false
   },
   "outputs": [],
   "source": [
    "def string_has_repeat(st):\n",
    "    for i in range(1, len(st)):\n",
    "        if st[i] == st[i-1]:\n",
    "            return True\n",
    "    return False\n",
    "assert string_has_repeat('aabcsdf') == True\n",
    "assert string_has_repeat('abasdvt') == False\n"
   ]
  },
  {
   "cell_type": "code",
   "execution_count": null,
   "metadata": {
    "collapsed": false
   },
   "outputs": [],
   "source": [
    "def string_is_nice_old(st):\n",
    "    # this is pretty inefficient, because I'm looping over the string multiple times for each subfunction\n",
    "    # better would be one loop through the string that maintains state on the 3 checks, looks at 2 letters at a time, \n",
    "    # and returns true or false at the end \n",
    "    if string_contains_bad_substring(st):\n",
    "        return False\n",
    "    if not string_contains_three_vowels(st):\n",
    "        return False\n",
    "    if not string_has_repeat(st):\n",
    "        return False\n",
    "    return True"
   ]
  },
  {
   "cell_type": "code",
   "execution_count": null,
   "metadata": {
    "collapsed": false
   },
   "outputs": [],
   "source": [
    "def count_nice_strings(string, nice_checker):\n",
    "    count = 0\n",
    "    for st in strings:\n",
    "        if nice_checker(st):\n",
    "            count +=1\n",
    "    return count\n",
    "count_nice_strings(strings, nice_checker=string_is_nice_old)"
   ]
  },
  {
   "cell_type": "code",
   "execution_count": null,
   "metadata": {
    "collapsed": false
   },
   "outputs": [],
   "source": [
    "def contains_nonoverlap_repeat(st):\n",
    "    for i in range(1, len(st)):\n",
    "        repeater = st[i-1:i+1]\n",
    "        if repeater in st[:i-1] or repeater in st[i+1:]:\n",
    "            return True\n",
    "    return False\n",
    "assert contains_nonoverlap_repeat('aaab') == False\n",
    "assert contains_nonoverlap_repeat('aaabbaa') == True\n",
    "assert contains_nonoverlap_repeat('abaab') == True\n",
    "assert contains_nonoverlap_repeat('bcsccfcb') == False"
   ]
  },
  {
   "cell_type": "code",
   "execution_count": null,
   "metadata": {
    "collapsed": false
   },
   "outputs": [],
   "source": [
    "def contains_repeat_with_space(st):\n",
    "    for i in range(2, len(st)):\n",
    "        if st[i] == st[i-2]:\n",
    "            return True\n",
    "    return False\n",
    "assert contains_repeat_with_space('aaab') == True\n",
    "assert contains_repeat_with_space('aacba') == False\n",
    "assert contains_repeat_with_space('aba') == True"
   ]
  },
  {
   "cell_type": "code",
   "execution_count": null,
   "metadata": {
    "collapsed": true
   },
   "outputs": [],
   "source": [
    "def string_is_nice_new(st):\n",
    "    if not contains_nonoverlap_repeat(st):\n",
    "        return False\n",
    "    if not contains_repeat_with_space(st):\n",
    "        return False\n",
    "    return True"
   ]
  },
  {
   "cell_type": "code",
   "execution_count": null,
   "metadata": {
    "collapsed": false
   },
   "outputs": [],
   "source": [
    "count_nice_strings(strings, nice_checker=string_is_nice_new)"
   ]
  },
  {
   "cell_type": "code",
   "execution_count": null,
   "metadata": {
    "collapsed": true
   },
   "outputs": [],
   "source": []
  },
  {
   "cell_type": "code",
   "execution_count": null,
   "metadata": {
    "collapsed": false
   },
   "outputs": [],
   "source": [
    "# day 6 part 1\n",
    "data = get_data('http://adventofcode.com/day/6/input').strip()\n",
    "commands = data.split('\\n')\n",
    "import re\n",
    "import numpy as np\n"
   ]
  },
  {
   "cell_type": "code",
   "execution_count": null,
   "metadata": {
    "collapsed": true
   },
   "outputs": [],
   "source": [
    "def get_coord_tuple_from_string(st):\n",
    "    start_coord_strings = st.split(',')\n",
    "    start_coord = tuple([int(x) for x in start_coord_strings])\n",
    "    return start_coord"
   ]
  },
  {
   "cell_type": "code",
   "execution_count": null,
   "metadata": {
    "collapsed": false
   },
   "outputs": [],
   "source": [
    "def parse_command(command):\n",
    "    regex_string = \"\\D+(\\d+,\\d+) through (\\d+,\\d+)\"\n",
    "    m = re.search(regex_string, command)\n",
    "    start_coord_string = m.groups()[0]\n",
    "    start_coord = get_coord_tuple_from_string(start_coord_string)\n",
    "    end_coord_string = m.groups()[1]\n",
    "    end_coord = get_coord_tuple_from_string(end_coord_string)\n",
    "\n",
    "    if 'turn off' in command:\n",
    "        func = turn_off\n",
    "    elif 'toggle' in command:\n",
    "        func = toggle\n",
    "    elif 'turn on' in command:\n",
    "        func = turn_on\n",
    "    return func, start_coord, end_coord\n",
    "assert parse_command('turn on 313,306 through 363,621') == (turn_on, (313,306), (363,621))\n",
    "assert parse_command('toggle 173,401 through 496,407') == (toggle, (173,401), (496,407))\n"
   ]
  },
  {
   "cell_type": "code",
   "execution_count": null,
   "metadata": {
    "collapsed": false
   },
   "outputs": [],
   "source": [
    "def turn_off(state, start, end):\n",
    "    state[start[0]:end[0]+1, start[1]:end[1]+1] = 0\n",
    "    return state\n",
    "\n",
    "def turn_on(state, start, end):\n",
    "    state[start[0]:end[0]+1, start[1]:end[1]+1] = 1\n",
    "    return state\n",
    "\n",
    "def toggle(state, start, end):\n",
    "    state[start[0]:end[0]+1, start[1]:end[1]+1] = ~state[start[0]:end[0]+1, start[1]:end[1]+1]\n",
    "    return state"
   ]
  },
  {
   "cell_type": "code",
   "execution_count": null,
   "metadata": {
    "collapsed": false
   },
   "outputs": [],
   "source": [
    "state = np.zeros((1000,1000), dtype=bool)\n",
    "for command in commands:\n",
    "    func, start, end = parse_command(command)\n",
    "    state = func(state, start, end)\n",
    "sum(sum(state))"
   ]
  },
  {
   "cell_type": "code",
   "execution_count": null,
   "metadata": {
    "collapsed": true
   },
   "outputs": [],
   "source": [
    "# day 6 part 2\n",
    "def turn_on(state, start, end):\n",
    "    state[start[0]:end[0]+1, start[1]:end[1]+1] = state[start[0]:end[0]+1, start[1]:end[1]+1] + 1\n",
    "    return state\n",
    "\n",
    "def turn_off(state, start, end):\n",
    "    state[start[0]:end[0]+1, start[1]:end[1]+1] = state[start[0]:end[0]+1, start[1]:end[1]+1] - 1\n",
    "    state[state < 0] = 0\n",
    "    return state\n",
    "\n",
    "def toggle(state, start, end):\n",
    "    state[start[0]:end[0]+1, start[1]:end[1]+1] = state[start[0]:end[0]+1, start[1]:end[1]+1] + 2\n",
    "    return state\n"
   ]
  },
  {
   "cell_type": "code",
   "execution_count": null,
   "metadata": {
    "collapsed": false
   },
   "outputs": [],
   "source": [
    "state = np.zeros((1000,1000))\n",
    "for command in commands:\n",
    "    func, start, end = parse_command(command)\n",
    "    state = func(state, start, end)\n",
    "int(sum(sum(state)))"
   ]
  },
  {
   "cell_type": "code",
   "execution_count": null,
   "metadata": {
    "collapsed": true
   },
   "outputs": [],
   "source": []
  },
  {
   "cell_type": "code",
   "execution_count": null,
   "metadata": {
    "collapsed": true
   },
   "outputs": [],
   "source": [
    "# day 7"
   ]
  },
  {
   "cell_type": "code",
   "execution_count": null,
   "metadata": {
    "collapsed": true
   },
   "outputs": [],
   "source": [
    "# day 8\n",
    "import re\n",
    "data = get_data('http://adventofcode.com/day/8/input').strip()\n"
   ]
  },
  {
   "cell_type": "code",
   "execution_count": null,
   "metadata": {
    "collapsed": false
   },
   "outputs": [],
   "source": [
    "data = data.replace(\"\\\\\", '/')\n",
    "characters_in_string = len(data)\n"
   ]
  },
  {
   "cell_type": "code",
   "execution_count": null,
   "metadata": {
    "collapsed": false
   },
   "outputs": [],
   "source": [
    "pattern = '/x\\w\\w'\n",
    "re.findall(pattern, data)\n",
    "subbed_hex = re.sub(pattern, 'M', data)"
   ]
  },
  {
   "cell_type": "code",
   "execution_count": null,
   "metadata": {
    "collapsed": false
   },
   "outputs": [],
   "source": [
    "subbed_hex"
   ]
  },
  {
   "cell_type": "code",
   "execution_count": null,
   "metadata": {
    "collapsed": false
   },
   "outputs": [],
   "source": [
    "pattern = '/\\\"'\n",
    "re.findall(pattern, 'M', subbed_hex)"
   ]
  },
  {
   "cell_type": "code",
   "execution_count": null,
   "metadata": {
    "collapsed": false
   },
   "outputs": [],
   "source": [
    "# day 9\n",
    "data = get_data('http://adventofcode.com/day/9/input').strip()\n",
    "data = data.split('\\n')"
   ]
  },
  {
   "cell_type": "code",
   "execution_count": null,
   "metadata": {
    "collapsed": false
   },
   "outputs": [],
   "source": [
    "def parse_command(command):\n",
    "    regex_string = \"(\\w+) to (\\w+) = (\\d+)\"\n",
    "    m = re.search(regex_string, command)\n",
    "    start = m.groups()[0]\n",
    "    end = m.groups()[1]\n",
    "    distance = int(m.groups()[2])\n",
    "    return (start, end, distance)"
   ]
  },
  {
   "cell_type": "code",
   "execution_count": null,
   "metadata": {
    "collapsed": false
   },
   "outputs": [],
   "source": [
    "from collections import defaultdict\n",
    "from itertools import permutations\n",
    "\n",
    "DISTANCE_LOOKUP = defaultdict(dict)\n",
    "cities = set()\n",
    "for line in data:\n",
    "    start, end, distance = parse_command(line)\n",
    "    DISTANCE_LOOKUP[start][end] = distance\n",
    "    DISTANCE_LOOKUP[end][start] = distance\n",
    "    cities.add(start)\n",
    "    cities.add(end)"
   ]
  },
  {
   "cell_type": "code",
   "execution_count": null,
   "metadata": {
    "collapsed": false
   },
   "outputs": [],
   "source": [
    "def find_path_length(remaining_stops, distance_traveled=0):\n",
    "    current_position = remaining_stops.pop(0)\n",
    "    if remaining_stops:\n",
    "        next_position = remaining_stops[0]\n",
    "        distance_this_leg = DISTANCE_LOOKUP[current_position][next_position]\n",
    "        distance_traveled += distance_this_leg\n",
    "        distance_traveled = find_path_length(remaining_stops, distance_traveled=distance_traveled)\n",
    "        return distance_traveled\n",
    "    else:\n",
    "        return distance_traveled\n",
    "\n"
   ]
  },
  {
   "cell_type": "code",
   "execution_count": null,
   "metadata": {
    "collapsed": false
   },
   "outputs": [],
   "source": [
    "min_length = float(\"inf\")\n",
    "ordered_cities = permutations(cities, len(cities))\n",
    "for order in ordered_cities:\n",
    "    city_order_list = list(order)\n",
    "    path_length = find_path_length(city_order_list)\n",
    "    if path_length < min_length:\n",
    "        min_length = path_length\n",
    "min_length"
   ]
  },
  {
   "cell_type": "code",
   "execution_count": null,
   "metadata": {
    "collapsed": true
   },
   "outputs": [],
   "source": [
    "ordered_cities = permutations(cities, len(cities))\n",
    "min_length = float(\"inf\")\n",
    "for order in ordered_cities:\n",
    "    path_length = 0\n",
    "    for i in range(len(order) - 1):\n",
    "        this_city = order[i]\n",
    "        next_city = order[i+1]\n",
    "        distance_to_next_city = DISTANCE_LOOKUP[this_city][next_city]\n",
    "        path_length += distance_to_next_city     \n",
    "    if path_length < min_length:\n",
    "        min_length = path_length\n"
   ]
  },
  {
   "cell_type": "code",
   "execution_count": null,
   "metadata": {
    "collapsed": false
   },
   "outputs": [],
   "source": [
    "ordered_cities = permutations(cities, len(cities))\n",
    "max_length = 0\n",
    "for order in ordered_cities:\n",
    "    path_length = 0\n",
    "    for i in range(len(order) - 1):\n",
    "        this_city = order[i]\n",
    "        next_city = order[i+1]\n",
    "        distance_to_next_city = DISTANCE_LOOKUP[this_city][next_city]\n",
    "        path_length += distance_to_next_city     \n",
    "    if path_length > max_length:\n",
    "        max_length = path_length\n",
    "max_length"
   ]
  },
  {
   "cell_type": "code",
   "execution_count": null,
   "metadata": {
    "collapsed": true
   },
   "outputs": [],
   "source": [
    "# day 10\n",
    "data = '1321131112'\n",
    "def pull_off_front_characters(sequence):\n",
    "    first_chars = []\n",
    "    first_char = sequence.pop(0)\n",
    "    first_chars.append(first_char)\n",
    "    if sequence:\n",
    "        while sequence[0] == first_char:\n",
    "            first_chars.append(sequence.pop(0))\n",
    "    num_repeats = len(first_chars)\n",
    "    return num_repeats, int(first_char), sequence\n",
    "   "
   ]
  },
  {
   "cell_type": "code",
   "execution_count": null,
   "metadata": {
    "collapsed": false
   },
   "outputs": [],
   "source": [
    "def process_this_step(sequence):\n",
    "    new_sequence = []\n",
    "    while sequence:\n",
    "        repeats, number, sequence = pull_off_front_characters(sequence)\n",
    "        new_sequence.append(repeats)\n",
    "        new_sequence.append(number)\n",
    "    return new_sequence"
   ]
  },
  {
   "cell_type": "code",
   "execution_count": null,
   "metadata": {
    "collapsed": false,
    "scrolled": true
   },
   "outputs": [],
   "source": [
    "current_list = list('1321131112')\n",
    "for i in range(40):\n",
    "    current_list = process_this_step(current_list)\n"
   ]
  },
  {
   "cell_type": "code",
   "execution_count": null,
   "metadata": {
    "collapsed": true
   },
   "outputs": [],
   "source": [
    "# ok, that was slow, now do with deques\n",
    "from collections import deque\n",
    "\n",
    "def process_this_step(sequence):\n",
    "    new_sequence = deque()\n",
    "    while sequence:\n",
    "        repeats, number, sequence = pull_off_front_characters(sequence)\n",
    "        new_sequence.append(repeats)\n",
    "        new_sequence.append(number)\n",
    "    return new_sequence\n",
    "\n",
    "def pull_off_front_characters(sequence):\n",
    "    first_chars = deque()\n",
    "    first_char = sequence.popleft()\n",
    "    first_chars.append(first_char)\n",
    "    if sequence:\n",
    "        while sequence[0] == first_char:\n",
    "            first_chars.append(sequence.popleft())\n",
    "    num_repeats = len(first_chars)\n",
    "    return num_repeats, int(first_char), sequence"
   ]
  },
  {
   "cell_type": "code",
   "execution_count": null,
   "metadata": {
    "collapsed": false
   },
   "outputs": [],
   "source": [
    "current_list = deque('1321131112')\n",
    "for i in range(40):\n",
    "    current_list = process_this_step(current_list)\n",
    "len(current_list)"
   ]
  },
  {
   "cell_type": "code",
   "execution_count": null,
   "metadata": {
    "collapsed": false
   },
   "outputs": [],
   "source": [
    "# part 2\n",
    "current_list = deque('1321131112')\n",
    "for i in range(50):\n",
    "    current_list = process_this_step(current_list)\n",
    "len(current_list)"
   ]
  },
  {
   "cell_type": "code",
   "execution_count": 247,
   "metadata": {
    "collapsed": false
   },
   "outputs": [],
   "source": [
    "# day 11\n",
    "import string\n",
    "letters = string.ascii_lowercase\n",
    "POSITION_OF_LETTER = {}\n",
    "LETTER_AT_POSITION = {}\n",
    "for i, letter in enumerate(letters):\n",
    "    POSITION_OF_LETTER[letter] = i\n",
    "    LETTER_AT_POSITION[i] = letter\n",
    "    "
   ]
  },
  {
   "cell_type": "code",
   "execution_count": 248,
   "metadata": {
    "collapsed": false
   },
   "outputs": [],
   "source": [
    "def increment_letter(letter):\n",
    "    letter_ind = POSITION_OF_LETTER[letter]\n",
    "    next_letter_ind = letter_ind + 1\n",
    "    wrap = next_letter_ind / 26\n",
    "    if not wrap:\n",
    "        return LETTER_AT_POSITION[next_letter_ind], False\n",
    "    else:\n",
    "        return LETTER_AT_POSITION[0], True"
   ]
  },
  {
   "cell_type": "code",
   "execution_count": 310,
   "metadata": {
    "collapsed": true
   },
   "outputs": [],
   "source": [
    "def increment_letter_string(letters):\n",
    "    need_to_increment = True\n",
    "    position_incrementing = 0\n",
    "    while need_to_increment:\n",
    "        position_incrementing += 1\n",
    "        last_letter = letters[-position_incrementing]\n",
    "        new_letter, need_to_increment = increment_letter(last_letter)\n",
    "        letters[-position_incrementing] = new_letter\n",
    "    return letters\n",
    "        "
   ]
  },
  {
   "cell_type": "code",
   "execution_count": 311,
   "metadata": {
    "collapsed": false
   },
   "outputs": [],
   "source": [
    "def does_not_contain_ambiguous_character(letters):\n",
    "    ambiguous_characters = {'i', 'o', 'l'}\n",
    "    for character in ambiguous_characters:\n",
    "        if character in letters:\n",
    "            return False\n",
    "    return True\n",
    "assert does_not_contain_ambiguous_character('aaab') == True\n",
    "assert does_not_contain_ambiguous_character('oaai') == False\n"
   ]
  },
  {
   "cell_type": "code",
   "execution_count": 312,
   "metadata": {
    "collapsed": false
   },
   "outputs": [],
   "source": [
    "def contains_straight(letters):\n",
    "    for i in range(len(letters) - 2):\n",
    "        start_num = POSITION_OF_LETTER[letters[i]]\n",
    "        second_num = POSITION_OF_LETTER[letters[i+1]]\n",
    "        third_num = POSITION_OF_LETTER[letters[i+2]]\n",
    "        if (start_num + 2 == third_num) and (start_num + 1 == second_num):\n",
    "            return True\n",
    "    return False\n",
    "assert contains_straight('aaab') == False\n",
    "assert contains_straight('abcb') == True\n",
    "\n",
    "\n",
    "            "
   ]
  },
  {
   "cell_type": "code",
   "execution_count": 313,
   "metadata": {
    "collapsed": false
   },
   "outputs": [],
   "source": [
    "def contains_two_nonoverlap_repeats(st):\n",
    "    already_repeat = False\n",
    "    repeat_inds = set()\n",
    "    for i in range(1, len(st)):\n",
    "        this_char = st[i]\n",
    "        next_char = st[i-1]\n",
    "        if this_char == next_char:\n",
    "            if i not in repeat_inds and i-1 not in repeat_inds:\n",
    "                if already_repeat:\n",
    "                    return True\n",
    "                else:\n",
    "                    already_repeat = True\n",
    "                    repeat_inds.add(i)\n",
    "                    repeat_inds.add(i-1)\n",
    "    return False\n",
    "assert contains_two_nonoverlap_repeats('aaab') == False\n",
    "assert contains_two_nonoverlap_repeats('aabdd') == True\n"
   ]
  },
  {
   "cell_type": "code",
   "execution_count": 324,
   "metadata": {
    "collapsed": true
   },
   "outputs": [],
   "source": [
    "def check_if_password_valid(password):\n",
    "    if not contains_two_nonoverlap_repeats(password):\n",
    "        return False\n",
    "    if not contains_straight(password):\n",
    "        return False\n",
    "    if not does_not_contain_ambiguous_character(password):\n",
    "        return False\n",
    "    return True"
   ]
  },
  {
   "cell_type": "code",
   "execution_count": 331,
   "metadata": {
    "collapsed": false
   },
   "outputs": [],
   "source": [
    "def get_next_password(current_password):\n",
    "    password_valid = False\n",
    "    while not password_valid:\n",
    "        current_password = increment_letter_string(current_password)\n",
    "        password_valid = check_if_password_valid(''.join(current_password))\n",
    "    return ''.join(current_password)"
   ]
  },
  {
   "cell_type": "code",
   "execution_count": 332,
   "metadata": {
    "collapsed": false
   },
   "outputs": [
    {
     "data": {
      "text/plain": [
       "'cqjxxyzz'"
      ]
     },
     "execution_count": 332,
     "metadata": {},
     "output_type": "execute_result"
    }
   ],
   "source": [
    "current_password = list('cqjxjnds')\n",
    "get_next_password(current_password)"
   ]
  },
  {
   "cell_type": "code",
   "execution_count": 333,
   "metadata": {
    "collapsed": false
   },
   "outputs": [
    {
     "data": {
      "text/plain": [
       "'cqkaabcc'"
      ]
     },
     "execution_count": 333,
     "metadata": {},
     "output_type": "execute_result"
    }
   ],
   "source": [
    "get_next_password(list('cqjxxyzz'))"
   ]
  },
  {
   "cell_type": "code",
   "execution_count": 336,
   "metadata": {
    "collapsed": true
   },
   "outputs": [],
   "source": [
    "# day 12\n",
    "import json\n",
    "data = get_data('http://adventofcode.com/day/12/input')\n",
    "data = json.loads(data)"
   ]
  },
  {
   "cell_type": "code",
   "execution_count": 356,
   "metadata": {
    "collapsed": true
   },
   "outputs": [],
   "source": [
    "def get_all_leaf_nodes(data):\n",
    "    results = []\n",
    "    def inner(data):\n",
    "        if isinstance(data, dict):\n",
    "            for item in data.values():\n",
    "                inner(item)\n",
    "        elif isinstance(data, list) or isinstance(data, tuple):\n",
    "            for item in data:\n",
    "                inner(item)\n",
    "        else:\n",
    "            results.append(data)\n",
    "\n",
    "    inner(data)\n",
    "    return results\n"
   ]
  },
  {
   "cell_type": "code",
   "execution_count": 357,
   "metadata": {
    "collapsed": false
   },
   "outputs": [
    {
     "data": {
      "text/plain": [
       "119433"
      ]
     },
     "execution_count": 357,
     "metadata": {},
     "output_type": "execute_result"
    }
   ],
   "source": [
    "total_num = 0\n",
    "for leaf in get_all_leaf_nodes(data):\n",
    "    try:\n",
    "        int(leaf)\n",
    "        total_num += int(leaf)\n",
    "    except ValueError:\n",
    "        pass\n",
    "total_num    "
   ]
  },
  {
   "cell_type": "code",
   "execution_count": 354,
   "metadata": {
    "collapsed": false
   },
   "outputs": [],
   "source": [
    "def get_all_leaf_nodes(data):\n",
    "    class Namespace(object):\n",
    "        pass\n",
    "    ns = Namespace()\n",
    "    ns.results = []\n",
    "\n",
    "    def inner(data):\n",
    "        if isinstance(data, dict):\n",
    "            if 'red' not in data.values() and 'red' not in data.keys():\n",
    "                for item in data.values():\n",
    "                    inner(item)\n",
    "        elif isinstance(data, list) or isinstance(data, tuple):\n",
    "            for item in data:\n",
    "                inner(item)\n",
    "        else:\n",
    "            ns.results.append(data)\n",
    "\n",
    "    inner(data)\n",
    "    return ns.results\n"
   ]
  },
  {
   "cell_type": "code",
   "execution_count": 355,
   "metadata": {
    "collapsed": false
   },
   "outputs": [
    {
     "data": {
      "text/plain": [
       "68466"
      ]
     },
     "execution_count": 355,
     "metadata": {},
     "output_type": "execute_result"
    }
   ],
   "source": [
    "total_num = 0\n",
    "for leaf in get_all_leaf_nodes(data):\n",
    "    try:\n",
    "        int(leaf)\n",
    "        total_num += int(leaf)\n",
    "    except ValueError:\n",
    "        pass\n",
    "total_num    "
   ]
  },
  {
   "cell_type": "code",
   "execution_count": 372,
   "metadata": {
    "collapsed": true
   },
   "outputs": [],
   "source": [
    "# day 13\n",
    "data = get_data('http://adventofcode.com/day/13/input').strip()\n",
    "data = data.split('\\n')"
   ]
  },
  {
   "cell_type": "code",
   "execution_count": 393,
   "metadata": {
    "collapsed": true
   },
   "outputs": [],
   "source": [
    "def parse_command(command):\n",
    "    regex_string = \"(\\w+) would (\\w+) (\\d+) .+ (\\w+)\\.\"\n",
    "    m = re.search(regex_string, command)\n",
    "    focus_person = m.groups()[0]\n",
    "    action = m.groups()[1]\n",
    "    amount = int(m.groups()[2])\n",
    "    if action == 'lose':\n",
    "        modifier = -1\n",
    "    if action == 'gain':\n",
    "        modifier = 1\n",
    "    other_person = m.groups()[3]\n",
    "    return (focus_person, other_person, modifier*amount)"
   ]
  },
  {
   "cell_type": "code",
   "execution_count": 394,
   "metadata": {
    "collapsed": false
   },
   "outputs": [],
   "source": [
    "\n",
    "from collections import defaultdict\n",
    "from itertools import permutations\n",
    "\n",
    "UTILS_LOOKUP = defaultdict(dict)\n",
    "individuals = set()\n",
    "for line in data:\n",
    "    for command in data:\n",
    "        focus_person, other_person, amount = parse_command(command)\n",
    "        individuals.add(focus_person)\n",
    "        UTILS_LOOKUP[focus_person][other_person] = amount"
   ]
  },
  {
   "cell_type": "code",
   "execution_count": 402,
   "metadata": {
    "collapsed": false
   },
   "outputs": [],
   "source": [
    "def get_utility(order):\n",
    "    util = 0\n",
    "    for i in range(len(order)):\n",
    "        this_person = order[i]\n",
    "        next_person_ind = i+1\n",
    "        previous_person_ind = i-1\n",
    "        if previous_person_ind not in range(len(order)):\n",
    "            previous_person_ind = max(range(len(order)))\n",
    "        if next_person_ind not in range(len(order)):\n",
    "            next_person_ind = min(range(len(order)))\n",
    "        next_person = order[next_person_ind]\n",
    "        previous_person = order[previous_person_ind]\n",
    "        util_with_next_person = UTILS_LOOKUP[this_person][next_person]\n",
    "        util_with_previous_person = UTILS_LOOKUP[this_person][previous_person]\n",
    "        util += util_with_next_person    \n",
    "        util += util_with_previous_person     \n",
    "    return util\n",
    "        "
   ]
  },
  {
   "cell_type": "code",
   "execution_count": 403,
   "metadata": {
    "collapsed": false
   },
   "outputs": [
    {
     "data": {
      "text/plain": [
       "618"
      ]
     },
     "execution_count": 403,
     "metadata": {},
     "output_type": "execute_result"
    }
   ],
   "source": [
    "max_util = 0\n",
    "ordered_people = permutations(individuals, len(individuals))\n",
    "for order in ordered_people:\n",
    "    util = get_utility(order)\n",
    "    if util > max_util:\n",
    "        max_util = util\n",
    "max_util"
   ]
  },
  {
   "cell_type": "code",
   "execution_count": 404,
   "metadata": {
    "collapsed": true
   },
   "outputs": [],
   "source": [
    "# day 13 part 2"
   ]
  },
  {
   "cell_type": "code",
   "execution_count": 405,
   "metadata": {
    "collapsed": false
   },
   "outputs": [],
   "source": [
    "for person in UTILS_LOOKUP.keys():\n",
    "    UTILS_LOOKUP[person]['me'] = 0\n",
    "    UTILS_LOOKUP['me'][person] = 0\n",
    "individuals.add('me')"
   ]
  },
  {
   "cell_type": "code",
   "execution_count": 406,
   "metadata": {
    "collapsed": false
   },
   "outputs": [
    {
     "data": {
      "text/plain": [
       "601"
      ]
     },
     "execution_count": 406,
     "metadata": {},
     "output_type": "execute_result"
    }
   ],
   "source": [
    "max_util = 0\n",
    "ordered_people = permutations(individuals, len(individuals))\n",
    "for order in ordered_people:\n",
    "    util = get_utility(order)\n",
    "    if util > max_util:\n",
    "        max_util = util\n",
    "max_util"
   ]
  },
  {
   "cell_type": "code",
   "execution_count": 407,
   "metadata": {
    "collapsed": true
   },
   "outputs": [],
   "source": [
    "# day 14\n",
    "data = get_data('http://adventofcode.com/day/14/input').strip()\n",
    "data = data.split('\\n')"
   ]
  },
  {
   "cell_type": "code",
   "execution_count": 411,
   "metadata": {
    "collapsed": false
   },
   "outputs": [
    {
     "data": {
      "text/plain": [
       "[u'Dancer can fly 27 km/s for 5 seconds, but then must rest for 132 seconds.',\n",
       " u'Cupid can fly 22 km/s for 2 seconds, but then must rest for 41 seconds.',\n",
       " u'Rudolph can fly 11 km/s for 5 seconds, but then must rest for 48 seconds.',\n",
       " u'Donner can fly 28 km/s for 5 seconds, but then must rest for 134 seconds.',\n",
       " u'Dasher can fly 4 km/s for 16 seconds, but then must rest for 55 seconds.',\n",
       " u'Blitzen can fly 14 km/s for 3 seconds, but then must rest for 38 seconds.',\n",
       " u'Prancer can fly 3 km/s for 21 seconds, but then must rest for 40 seconds.',\n",
       " u'Comet can fly 18 km/s for 6 seconds, but then must rest for 103 seconds.',\n",
       " u'Vixen can fly 18 km/s for 5 seconds, but then must rest for 84 seconds.']"
      ]
     },
     "execution_count": 411,
     "metadata": {},
     "output_type": "execute_result"
    }
   ],
   "source": [
    "data"
   ]
  },
  {
   "cell_type": "code",
   "execution_count": 412,
   "metadata": {
    "collapsed": false
   },
   "outputs": [],
   "source": [
    "def parse_command(command):\n",
    "    regex_string = \"(\\w+) can fly (\\d+) km/s for (\\d+) seconds, but then must rest for (\\d+)\"\n",
    "    m = re.search(regex_string, command)\n",
    "    reindeer = m.groups()[0]\n",
    "    velocity = int(m.groups()[1])\n",
    "    fly_time = int(m.groups()[2])\n",
    "    rest_time = int(m.groups()[3])\n",
    "   \n",
    "    return (reindeer, velocity, fly_time, rest_time)"
   ]
  },
  {
   "cell_type": "code",
   "execution_count": 417,
   "metadata": {
    "collapsed": false
   },
   "outputs": [],
   "source": [
    "reindeers = {}\n",
    "for command in data:\n",
    "    reindeer, velocity, fly_time, rest_time = parse_command(command)\n",
    "    total_time = fly_time+rest_time\n",
    "    reindeers[reindeer] = (velocity, fly_time, rest_time, total_time) "
   ]
  },
  {
   "cell_type": "code",
   "execution_count": 483,
   "metadata": {
    "collapsed": false
   },
   "outputs": [],
   "source": [
    "from collections import Counter\n",
    "winning_counts = Counter()\n",
    "for race_time in range(1,2504):\n",
    "    positions = defaultdict(list)\n",
    "    max_distance = 0 \n",
    "    for reindeer, data in reindeers.iteritems():\n",
    "        velocity, fly_time, rest_time, total_time = data\n",
    "        completed_laps = race_time / total_time\n",
    "        remainder_time = race_time % total_time\n",
    "        distance_traveled_whole_laps = completed_laps * velocity * fly_time\n",
    "        extra_fly_time = remainder_time\n",
    "        if extra_fly_time > fly_time:\n",
    "            extra_fly_time = fly_time\n",
    "        extra_distance_traveled = extra_fly_time * velocity\n",
    "        total_distance = distance_traveled_whole_laps + extra_distance_traveled\n",
    "        positions[total_distance].append(reindeer)\n",
    "    winning_position = max(positions.keys())\n",
    "    winning_reindeers = positions[winning_position]\n",
    "    for winning_reindeer in winning_reindeers:\n",
    "        winning_counts[winning_reindeer] += 1"
   ]
  },
  {
   "cell_type": "code",
   "execution_count": 484,
   "metadata": {
    "collapsed": false
   },
   "outputs": [
    {
     "data": {
      "text/plain": [
       "2714"
      ]
     },
     "execution_count": 484,
     "metadata": {},
     "output_type": "execute_result"
    }
   ],
   "source": [
    "sum(winning_counts.values())"
   ]
  },
  {
   "cell_type": "code",
   "execution_count": 485,
   "metadata": {
    "collapsed": false
   },
   "outputs": [
    {
     "data": {
      "text/plain": [
       "Counter({u'Blitzen': 6,\n",
       "         u'Comet': 213,\n",
       "         u'Cupid': 46,\n",
       "         u'Dancer': 164,\n",
       "         u'Donner': 1102,\n",
       "         u'Prancer': 176,\n",
       "         u'Rudolph': 647,\n",
       "         u'Vixen': 360})"
      ]
     },
     "execution_count": 485,
     "metadata": {},
     "output_type": "execute_result"
    }
   ],
   "source": [
    "winning_counts"
   ]
  },
  {
   "cell_type": "code",
   "execution_count": null,
   "metadata": {
    "collapsed": true
   },
   "outputs": [],
   "source": []
  }
 ],
 "metadata": {
  "kernelspec": {
   "display_name": "Python 2",
   "language": "python",
   "name": "python2"
  },
  "language_info": {
   "codemirror_mode": {
    "name": "ipython",
    "version": 2
   },
   "file_extension": ".py",
   "mimetype": "text/x-python",
   "name": "python",
   "nbconvert_exporter": "python",
   "pygments_lexer": "ipython2",
   "version": "2.7.6"
  }
 },
 "nbformat": 4,
 "nbformat_minor": 0
}
