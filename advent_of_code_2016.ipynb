{
 "cells": [
  {
   "cell_type": "code",
   "execution_count": null,
   "metadata": {
    "collapsed": false
   },
   "outputs": [],
   "source": [
    "import requests\n",
    "import os\n",
    "YEAR = '2016'"
   ]
  },
  {
   "cell_type": "code",
   "execution_count": null,
   "metadata": {
    "collapsed": true
   },
   "outputs": [],
   "source": [
    "def get_data(problem_number):\n",
    "    \"\"\"\n",
    "    :param: integer problem number\n",
    "    \n",
    "    Makes authenticated request using session code, pulls out the text from the response\n",
    "    \n",
    "    TO USE: go to your problem data for an advent of code problem,\n",
    "    and look in your cookies (chrome dev tools) for your session code. Add it to your env variables or hard code.\n",
    "    \"\"\"\n",
    "    url = 'http://adventofcode.com/%s/day/%s/input' % (YEAR, problem_number)\n",
    "    # store my session code locally in an environment variable, not checked into code.\n",
    "    session_code = os.environ['ADVENT_SESSION']\n",
    "    my_account_session = {'session': session_code}\n",
    "    response = requests.get(url, cookies=my_account_session)\n",
    "    data = response.text\n",
    "    return data"
   ]
  },
  {
   "cell_type": "markdown",
   "metadata": {},
   "source": [
    "# Question 1"
   ]
  },
  {
   "cell_type": "markdown",
   "metadata": {},
   "source": [
    "### Part 1"
   ]
  },
  {
   "cell_type": "code",
   "execution_count": null,
   "metadata": {
    "collapsed": true
   },
   "outputs": [],
   "source": [
    "# get the data\n",
    "q1_data = get_data('http://adventofcode.com/2016/day/1/input')"
   ]
  },
  {
   "cell_type": "code",
   "execution_count": null,
   "metadata": {
    "collapsed": false
   },
   "outputs": [],
   "source": [
    "# process data\n",
    "moves = q1_data.split(', ')\n"
   ]
  },
  {
   "cell_type": "code",
   "execution_count": null,
   "metadata": {
    "collapsed": true
   },
   "outputs": [],
   "source": [
    "moves1 = u'R3, L5, R2, L1, L2, R5, L2, R2, L2, L2, L1, R2, L2, R4, R4, R1, L2, L3, R3, L1, R2, L2, L4, R4, R5, L3, R3, L3, L3, R4, R5, L3, R3, L5, L1, L2, R2, L1, R3, R1, L1, R187, L1, R2, R47, L5, L1, L2, R4, R3, L3, R3, R4, R1, R3, L1, L4, L1, R2, L1, R4, R5, L1, R77, L5, L4, R3, L2, R4, R5, R5, L2, L2, R2, R5, L2, R194, R5, L2, R4, L5, L4, L2, R5, L3, L2, L5, R5, R2, L3, R3, R1, L4, R2, L1, R5, L1, R5, L1, L1, R3, L1, R5, R2, R5, R5, L4, L5, L5, L5, R3, L2, L5, L4, R3, R1, R1, R4, L2, L4, R5, R5, R4, L2, L2, R5, R5, L5, L2, R4, R4, L4, R1, L3, R1, L1, L1, L1, L4, R5, R4, L4, L4, R5, R3, L2, L2, R3, R1, R4, L3, R1, L4, R3, L3, L2, R2, R2, R2, L1, L4, R3, R2, R2, L3, R2, L3, L2, R4, L2, R3, L4, R5, R4, R1, R5, R3'.split(', ')"
   ]
  },
  {
   "cell_type": "code",
   "execution_count": null,
   "metadata": {
    "collapsed": false
   },
   "outputs": [],
   "source": [
    "moves"
   ]
  },
  {
   "cell_type": "code",
   "execution_count": null,
   "metadata": {
    "collapsed": true
   },
   "outputs": [],
   "source": [
    "from collections import defaultdict  \n",
    "import numpy as np"
   ]
  },
  {
   "cell_type": "code",
   "execution_count": null,
   "metadata": {
    "collapsed": false
   },
   "outputs": [],
   "source": [
    "def get_new_direction_and_magnitude(moves_direction_index, next_move):\n",
    "    if next_move[0] == 'L':\n",
    "        moves_direction_index -= 1\n",
    "    if next_move[0] == 'R':\n",
    "        moves_direction_index += 1\n",
    "    moves_direction_index = moves_direction_index % 4\n",
    "    magnitude = int(next_move[1:])\n",
    "    return moves_direction_index, magnitude"
   ]
  },
  {
   "cell_type": "code",
   "execution_count": null,
   "metadata": {
    "collapsed": true
   },
   "outputs": [],
   "source": [
    "def execute_moves(moves):\n",
    "    moves_direction_index = 0\n",
    "    move_directions = [np.array([0, 1]), np.array([1, 0]), np.array([0, -1]), np.array([-1, 0])]\n",
    "    position = np.array([0,0])\n",
    "    for move in moves:\n",
    "        moves_direction_index, magnitude = get_new_direction_and_magnitude(moves_direction_index, move)\n",
    "        move_direction = move_directions[moves_direction_index]\n",
    "        previous_position = position\n",
    "        position = previous_position + (magnitude * move_direction)\n",
    "        print previous_position, move, move_direction, position\n",
    "\n",
    "    return position"
   ]
  },
  {
   "cell_type": "code",
   "execution_count": null,
   "metadata": {
    "collapsed": true
   },
   "outputs": [],
   "source": [
    "def get_distance_from_position(position):\n",
    "    return abs(position[0]) + abs(position[1])"
   ]
  },
  {
   "cell_type": "code",
   "execution_count": null,
   "metadata": {
    "collapsed": false,
    "scrolled": true
   },
   "outputs": [],
   "source": [
    "# tests\n",
    "\n",
    "position = execute_moves(['R1','R1','R1','R1'])\n",
    "assert(np.all(position == np.array([0,0])))\n",
    "\n",
    "position = execute_moves(['L2','L2','L2','L2', 'L2','L2','L2','L2'])\n",
    "assert(np.all(position == np.array([0,0])))\n",
    "\n",
    "position = execute_moves(['R2', 'R2', 'R2'])\n",
    "assert(np.all(position == np.array([0,-2])))\n",
    "distance = get_distance_from_position(position)\n",
    "assert(distance == 2)\n",
    "\n",
    "position = execute_moves(['R2', 'L3'])\n",
    "assert(np.all(position == np.array([2,3])))\n",
    "distance = get_distance_from_position(position)\n",
    "assert(distance == 5)"
   ]
  },
  {
   "cell_type": "code",
   "execution_count": null,
   "metadata": {
    "collapsed": false
   },
   "outputs": [],
   "source": [
    "position = execute_moves(moves)\n",
    "distance = get_distance_from_position(position)\n",
    "distance, position"
   ]
  },
  {
   "cell_type": "markdown",
   "metadata": {
    "collapsed": true
   },
   "source": [
    "### Part 2"
   ]
  },
  {
   "cell_type": "code",
   "execution_count": null,
   "metadata": {
    "collapsed": true
   },
   "outputs": [],
   "source": [
    "from collections import Counter"
   ]
  },
  {
   "cell_type": "code",
   "execution_count": null,
   "metadata": {
    "collapsed": true
   },
   "outputs": [],
   "source": [
    "def execute_moves_until_position_reached(moves):\n",
    "    locations_visited = set()\n",
    "    moves_direction_index = 0\n",
    "    move_directions = [np.array([0, 1]), np.array([1, 0]), np.array([0, -1]), np.array([-1, 0])]\n",
    "    position = np.array([0,0])\n",
    "    locations_visited.update((tuple(position),))\n",
    "    for move in moves:\n",
    "        moves_direction_index, magnitude = get_new_direction_and_magnitude(moves_direction_index, move)\n",
    "        move_direction = move_directions[moves_direction_index]\n",
    "        previous_position = position\n",
    "        for i in range(magnitude):\n",
    "            position = position + move_direction\n",
    "            if tuple(position) in locations_visited:\n",
    "                print \"HIT!\"\n",
    "                return position\n",
    "            locations_visited.add(tuple(position))\n",
    "        print previous_position, move, move_direction, position\n"
   ]
  },
  {
   "cell_type": "code",
   "execution_count": null,
   "metadata": {
    "collapsed": false
   },
   "outputs": [],
   "source": [
    "position = execute_moves_until_position_reached(moves)\n",
    "distance = get_distance_from_position(position)\n",
    "distance, position"
   ]
  },
  {
   "cell_type": "markdown",
   "metadata": {},
   "source": [
    "## Problem 2"
   ]
  },
  {
   "cell_type": "markdown",
   "metadata": {},
   "source": [
    "### Part 1"
   ]
  },
  {
   "cell_type": "code",
   "execution_count": null,
   "metadata": {
    "collapsed": true
   },
   "outputs": [],
   "source": [
    "# get the data\n",
    "q2_data = get_data(2)\n",
    "instructions = q2_data.split('\\n')"
   ]
  },
  {
   "cell_type": "code",
   "execution_count": null,
   "metadata": {
    "collapsed": false
   },
   "outputs": [],
   "source": [
    "instructions"
   ]
  },
  {
   "cell_type": "code",
   "execution_count": null,
   "metadata": {
    "collapsed": true
   },
   "outputs": [],
   "source": [
    "def evaluate_new_position(old_position, instruction_direction):\n",
    "    move_directions = {'U': np.array([-1, 0]), \n",
    "                   'R': np.array([0, 1]),\n",
    "                   'D': np.array([1, 0]), \n",
    "                   'L': np.array([0, -1])}\n",
    "    new_position = old_position + move_directions[instruction_direction]\n",
    "    for coord in new_position:\n",
    "        if coord < 0 or coord > 2:\n",
    "            return old_position\n",
    "    return new_position\n",
    "    "
   ]
  },
  {
   "cell_type": "code",
   "execution_count": null,
   "metadata": {
    "collapsed": true
   },
   "outputs": [],
   "source": [
    "keypad = np.matrix('1 2 3; 4 5 6; 7 8 9')"
   ]
  },
  {
   "cell_type": "code",
   "execution_count": null,
   "metadata": {
    "collapsed": true
   },
   "outputs": [],
   "source": [
    "test_instructions = ['ULL',\n",
    "'RRDDD',\n",
    "'LURDL',\n",
    "'UUUUD']"
   ]
  },
  {
   "cell_type": "code",
   "execution_count": null,
   "metadata": {
    "collapsed": false
   },
   "outputs": [],
   "source": [
    "def execute_instructions(instructions):\n",
    "    code = ''\n",
    "    position = np.array([1,1])\n",
    "    for line in instructions:\n",
    "        for instruction in line:\n",
    "            old_position = position\n",
    "            position = evaluate_new_position(old_position=position, instruction_direction=instruction)\n",
    "            print old_position, instruction,position\n",
    "        index = tuple(position)\n",
    "        code += str(keypad[index])\n",
    "        print \"LINE!\"\n",
    "    return code\n"
   ]
  },
  {
   "cell_type": "code",
   "execution_count": null,
   "metadata": {
    "collapsed": false
   },
   "outputs": [],
   "source": [
    "execute_instructions(test_instructions)"
   ]
  },
  {
   "cell_type": "code",
   "execution_count": null,
   "metadata": {
    "collapsed": false,
    "scrolled": true
   },
   "outputs": [],
   "source": [
    "execute_instructions(instructions)"
   ]
  },
  {
   "cell_type": "markdown",
   "metadata": {},
   "source": [
    "## Problem 3"
   ]
  },
  {
   "cell_type": "code",
   "execution_count": null,
   "metadata": {
    "collapsed": false
   },
   "outputs": [],
   "source": [
    "# get the data\n",
    "q3_data = get_data(3)\n",
    "lines = q3_data.strip().split('\\n')\n",
    "raw_triangles = [line.strip().split('  ') for line in lines]\n",
    "clean_triangles = [[int(x.strip('')) for x in raw_triangle if x] for raw_triangle in raw_triangles]\n"
   ]
  },
  {
   "cell_type": "code",
   "execution_count": null,
   "metadata": {
    "collapsed": true
   },
   "outputs": [],
   "source": [
    "def check_triangle(triangle):\n",
    "    if not triangle[0] + triangle[1] > triangle[2]:\n",
    "        return False\n",
    "    if not triangle[0] + triangle[2] > triangle[1]:\n",
    "        return False\n",
    "    if not triangle[1] + triangle[2] > triangle[0]:\n",
    "        return False\n",
    "    return True"
   ]
  },
  {
   "cell_type": "code",
   "execution_count": null,
   "metadata": {
    "collapsed": false
   },
   "outputs": [],
   "source": [
    "assert check_triangle([5, 10, 25]) == False\n",
    "assert check_triangle([3, 4, 5]) == True\n"
   ]
  },
  {
   "cell_type": "code",
   "execution_count": null,
   "metadata": {
    "collapsed": false
   },
   "outputs": [],
   "source": [
    "count = 0\n",
    "for maybe_triangle in clean_triangles:\n",
    "    # make sure no malformed triangle lists got through- 3 sides in each\n",
    "    assert len(maybe_triangle) == 3\n",
    "    if check_triangle(maybe_triangle):\n",
    "        count += 1\n",
    "count"
   ]
  },
  {
   "cell_type": "markdown",
   "metadata": {},
   "source": [
    "### Part 2"
   ]
  },
  {
   "cell_type": "code",
   "execution_count": null,
   "metadata": {
    "collapsed": false
   },
   "outputs": [],
   "source": [
    "# convert list of lists to an np array\n",
    "triangle_array = np.array(clean_triangles)\n",
    "# transpose rows and columns\n",
    "column_triangles = triangle_array.transpose()\n",
    "# make sure I have an even number of triangles\n",
    "assert column_triangles.shape[1] % 3 == 0"
   ]
  },
  {
   "cell_type": "code",
   "execution_count": 227,
   "metadata": {
    "collapsed": false
   },
   "outputs": [
    {
     "data": {
      "text/plain": [
       "1911"
      ]
     },
     "execution_count": 227,
     "metadata": {},
     "output_type": "execute_result"
    }
   ],
   "source": [
    "column_triangles.shape[1]"
   ]
  },
  {
   "cell_type": "code",
   "execution_count": 232,
   "metadata": {
    "collapsed": false
   },
   "outputs": [],
   "source": [
    "count = 0\n",
    "for row in column_triangles:\n",
    "    # index 3 at a time\n",
    "    for i in range(column_triangles.shape[1] / 3):\n",
    "        maybe_triangle = row[i*3 : i*3+3]\n",
    "        is_triangle = check_triangle(maybe_triangle)\n",
    "        if is_triangle:    \n",
    "            count += 1\n"
   ]
  },
  {
   "cell_type": "code",
   "execution_count": 233,
   "metadata": {
    "collapsed": false
   },
   "outputs": [
    {
     "data": {
      "text/plain": [
       "1849"
      ]
     },
     "execution_count": 233,
     "metadata": {},
     "output_type": "execute_result"
    }
   ],
   "source": [
    "count"
   ]
  },
  {
   "cell_type": "markdown",
   "metadata": {},
   "source": [
    "## Problem 4"
   ]
  },
  {
   "cell_type": "markdown",
   "metadata": {},
   "source": [
    "### part 1"
   ]
  },
  {
   "cell_type": "code",
   "execution_count": 325,
   "metadata": {
    "collapsed": true
   },
   "outputs": [],
   "source": [
    "# get the data\n",
    "q4_data = get_data(4)\n",
    "lines = q4_data.strip().split('\\n')\n",
    "\n",
    "import re"
   ]
  },
  {
   "cell_type": "code",
   "execution_count": 326,
   "metadata": {
    "collapsed": true
   },
   "outputs": [],
   "source": [
    "def evaluate_checksum(letter_counts, checksum):\n",
    "    del letter_counts['-']\n",
    "    # sort with the value (count) reversed and the key (letter) in ascending alphabetical\n",
    "    sorted_letters = sorted(letter_counts.items(), key= lambda k: (-k[1], k[0]))\n",
    "    five_most_common_letters = [x[0] for x in sorted_letters[0:5]]\n",
    "    return ''.join(five_most_common_letters) == checksum\n",
    "    "
   ]
  },
  {
   "cell_type": "code",
   "execution_count": 327,
   "metadata": {
    "collapsed": true
   },
   "outputs": [],
   "source": [
    "real_rooms = []"
   ]
  },
  {
   "cell_type": "code",
   "execution_count": 328,
   "metadata": {
    "collapsed": false
   },
   "outputs": [
    {
     "data": {
      "text/plain": [
       "245102"
      ]
     },
     "execution_count": 328,
     "metadata": {},
     "output_type": "execute_result"
    }
   ],
   "source": [
    "summed_sectors = 0\n",
    "for line in lines:\n",
    "    match_obj = re.search(pattern='(\\D+)(\\d+)\\[(\\D+)\\]', string=line)\n",
    "    encrypted_name = match_obj.group(1)\n",
    "    checksum = match_obj.group(3)\n",
    "    sector = int(match_obj.group(2))\n",
    "    letter_count = Counter()\n",
    "    letter_count.update(encrypted_name)\n",
    "    if evaluate_checksum(letter_count, checksum):\n",
    "        summed_sectors += sector\n",
    "        real_rooms.append((encrypted_name, sector))\n",
    "summed_sectors"
   ]
  },
  {
   "cell_type": "markdown",
   "metadata": {},
   "source": [
    "### part 2\n"
   ]
  },
  {
   "cell_type": "code",
   "execution_count": 329,
   "metadata": {
    "collapsed": true
   },
   "outputs": [],
   "source": [
    "test_string = 'qzmt-zixmtkozy-ivhz'\n",
    "sector_id = 343\n",
    "import string"
   ]
  },
  {
   "cell_type": "code",
   "execution_count": 330,
   "metadata": {
    "collapsed": true
   },
   "outputs": [],
   "source": [
    "def shift_string(in_string, sector_id):\n",
    "    out_string = ''\n",
    "    for letter in in_string:\n",
    "        out_string += shift_letter(letter, sector_id)\n",
    "    return out_string"
   ]
  },
  {
   "cell_type": "code",
   "execution_count": 331,
   "metadata": {
    "collapsed": true
   },
   "outputs": [],
   "source": [
    "def shift_letter(letter, sector_id):\n",
    "    if letter == '-':\n",
    "        return ' '\n",
    "    letter_start_index = string.lowercase.index(letter)\n",
    "    shifted_letter_index = letter_start_index + sector_id\n",
    "    shifted_letter = string.lowercase[shifted_letter_index % 26]\n",
    "    return shifted_letter"
   ]
  },
  {
   "cell_type": "code",
   "execution_count": 332,
   "metadata": {
    "collapsed": false
   },
   "outputs": [
    {
     "name": "stdout",
     "output_type": "stream",
     "text": [
      "rampaging plastic grass research  660\n",
      "rampaging scavenger hunt laboratory  913\n",
      "magnetic plastic grass acquisition  992\n",
      "rampaging flower engineering  317\n",
      "radioactive bunny user testing  532\n",
      "international basket customer service  664\n",
      "weaponized plastic grass logistics  277\n",
      "corrosive egg sales  975\n",
      "fuzzy candy coating financing  927\n",
      "international rabbit services  302\n",
      "projectile candy coating management  854\n",
      "rampaging candy management  267\n",
      "colorful egg financing  563\n",
      "consumer grade dye laboratory  352\n",
      "radioactive rabbit sales  880\n",
      "international chocolate marketing  774\n",
      "fuzzy consumer grade rabbit shipping  154\n",
      "classified plastic grass laboratory  377\n",
      "cryogenic candy coating department  177\n",
      "international candy user testing  239\n",
      "corrosive rabbit acquisition  743\n",
      "biohazardous colorful egg deployment  917\n",
      "corrosive candy coating customer service  163\n",
      "rampaging chocolate acquisition  373\n",
      "unstable jellybean development  564\n",
      "cryogenic jellybean management  384\n",
      "consumer grade dye analysis  951\n",
      "weaponized basket containment  199\n",
      "fuzzy basket design  236\n",
      "classified flower services  230\n",
      "cryogenic candy receiving  533\n",
      "classified flower acquisition  758\n",
      "corrosive chocolate development  953\n",
      "rampaging egg customer service  457\n",
      "weaponized scavenger hunt marketing  538\n",
      "radioactive plastic grass training  256\n",
      "weaponized egg research  750\n",
      "projectile weaponized jellybean reacquisition  573\n",
      "biohazardous egg shipping  174\n",
      "biohazardous basket research  573\n",
      "colorful scavenger hunt services  175\n",
      "top secret egg financing  205\n",
      "classified scavenger hunt acquisition  196\n",
      "corrosive bunny engineering  171\n",
      "magnetic top secret bunny purchasing  760\n",
      "international egg containment  397\n",
      "unstable rabbit marketing  935\n",
      "consumer grade jellybean engineering  204\n",
      "rampaging basket deployment  503\n",
      "biohazardous candy storage  849\n",
      "biohazardous scavenger hunt customer service  755\n",
      "top secret flower sales  408\n",
      "magnetic dye reacquisition  293\n",
      "corrosive candy sales  230\n",
      "magnetic candy receiving  699\n",
      "unstable fuzzy plastic grass deployment  957\n",
      "top secret dye technology  231\n",
      "corrosive bunny logistics  280\n",
      "unstable basket department  818\n",
      "unstable chocolate user testing  484\n",
      "biohazardous jellybean department  648\n",
      "classified scavenger hunt department  360\n",
      "magnetic rabbit operations  405\n",
      "consumer grade plastic grass logistics  395\n",
      "military grade candy shipping  799\n",
      "radioactive candy user testing  684\n",
      "unstable plastic grass purchasing  405\n",
      "rampaging egg deployment  609\n",
      "cryogenic dye acquisition  581\n",
      "radioactive egg logistics  796\n",
      "international dye shipping  914\n",
      "top secret plastic grass engineering  775\n",
      "fuzzy magnetic flower laboratory  376\n",
      "colorful jellybean customer service  811\n",
      "radioactive rabbit services  829\n",
      "radioactive chocolate storage  786\n",
      "magnetic rabbit purchasing  865\n",
      "international egg shipping  499\n",
      "consumer grade candy department  980\n",
      "fuzzy bunny research  648\n",
      "cryogenic jellybean marketing  526\n",
      "radioactive dye design  249\n",
      "rampaging jellybean services  560\n",
      "top secret chocolate management  823\n",
      "international egg management  722\n",
      "corrosive colorful plastic grass analysis  337\n",
      "projectile basket financing  528\n",
      "weaponized candy engineering  154\n",
      "rampaging chocolate analysis  608\n",
      "military grade chocolate marketing  706\n",
      "classified scavenger hunt sales  628\n",
      "projectile dye customer service  270\n",
      "military grade biohazardous egg design  946\n",
      "magnetic egg logistics  218\n",
      "biohazardous egg training  342\n",
      "cryogenic rabbit analysis  691\n",
      "radioactive rabbit receiving  117\n",
      "unstable bunny marketing  612\n",
      "classified chocolate department  718\n",
      "colorful weaponized rabbit workshop  344\n",
      "rampaging egg engineering  512\n",
      "consumer grade rabbit containment  240\n",
      "military grade dye development  369\n",
      "biohazardous dye workshop  368\n",
      "military grade dye operations  911\n",
      "international plastic grass analysis  459\n",
      "colorful scavenger hunt deployment  345\n",
      "corrosive candy coating research  699\n",
      "classified bunny technology  697\n",
      "rampaging top secret basket technology  483\n",
      "colorful chocolate marketing  136\n",
      "corrosive flower services  693\n",
      "magnetic bunny engineering  223\n",
      "classified candy shipping  127\n",
      "projectile scavenger hunt logistics  761\n",
      "international flower training  211\n",
      "classified scavenger hunt workshop  589\n",
      "military grade bunny marketing  859\n",
      "consumer grade jellybean shipping  507\n",
      "colorful bunny receiving  773\n",
      "top secret flower shipping  612\n",
      "top secret candy engineering  251\n",
      "military grade candy coating reacquisition  328\n",
      "rampaging candy acquisition  142\n",
      "rampaging candy analysis  696\n",
      "corrosive bunny storage  612\n",
      "unstable scavenger hunt customer service  663\n",
      "projectile candy coating development  619\n",
      "top secret candy coating logistics  103\n",
      "colorful scavenger hunt workshop  840\n",
      "radioactive basket department  308\n",
      "corrosive jellybean department  330\n",
      "colorful candy technology  593\n",
      "fuzzy candy coating purchasing  740\n",
      "magnetic bunny reacquisition  859\n",
      "unstable scavenger hunt research  999\n",
      "top secret egg customer service  250\n",
      "international chocolate department  261\n",
      "top secret bunny analysis  751\n",
      "rampaging rabbit development  809\n",
      "classified chocolate research  582\n",
      "rampaging scavenger hunt technology  873\n",
      "consumer grade egg design  756\n",
      "weaponized candy coating development  377\n",
      "projectile basket department  221\n",
      "radioactive flower development  792\n",
      "fuzzy plastic grass logistics  255\n",
      "corrosive candy operations  683\n",
      "international dye containment  931\n",
      "military grade candy coating marketing  272\n",
      "biohazardous candy deployment  651\n",
      "cryogenic international dye services  398\n",
      "military grade dye analysis  107\n",
      "biohazardous egg sales  822\n",
      "corrosive basket customer service  787\n",
      "fuzzy magnetic flower analysis  504\n",
      "unstable candy design  654\n",
      "military grade chocolate department  311\n",
      "weaponized basket research  787\n",
      "consumer grade fuzzy dye deployment  232\n",
      "classified dye deployment  688\n",
      "military grade plastic grass containment  628\n",
      "rampaging scavenger hunt workshop  533\n",
      "colorful jellybean analysis  803\n",
      "classified basket management  115\n",
      "colorful candy shipping  498\n",
      "biohazardous scavenger hunt management  967\n",
      "fuzzy unstable candy design  462\n",
      "radioactive egg storage  608\n",
      "top secret candy laboratory  305\n",
      "magnetic basket development  370\n",
      "classified military grade flower department  948\n",
      "corrosive radioactive bunny engineering  204\n",
      "weaponized jellybean research  721\n",
      "fuzzy candy development  679\n",
      "projectile dye receiving  720\n",
      "colorful candy coating operations  570\n",
      "magnetic basket user testing  891\n",
      "unstable dye development  387\n",
      "colorful flower engineering  140\n",
      "radioactive basket development  921\n",
      "corrosive candy coating marketing  843\n",
      "fuzzy plastic grass financing  428\n",
      "weaponized candy management  324\n",
      "colorful jellybean acquisition  380\n",
      "consumer grade egg technology  764\n",
      "biohazardous dye technology  646\n",
      "fuzzy dye logistics  706\n",
      "projectile jellybean development  886\n",
      "military grade flower storage  287\n",
      "top secret jellybean storage  703\n",
      "fuzzy chocolate design  504\n",
      "classified scavenger hunt receiving  995\n",
      "consumer grade candy coating user testing  142\n",
      "biohazardous rabbit containment  392\n",
      "consumer grade chocolate receiving  418\n",
      "consumer grade chocolate department  271\n",
      "classified chocolate services  332\n",
      "classified plastic grass logistics  700\n",
      "corrosive candy engineering  198\n",
      "radioactive basket technology  336\n",
      "corrosive scavenger hunt customer service  647\n",
      "magnetic basket management  891\n",
      "consumer grade basket workshop  359\n",
      "classified fuzzy dye receiving  932\n",
      "military grade egg containment  378\n",
      "top secret bunny training  981\n",
      "consumer grade jellybean financing  929\n",
      "classified plastic grass user testing  659\n",
      "colorful scavenger hunt laboratory  412\n",
      "cryogenic jellybean customer service  139\n",
      "top secret flower operations  209\n",
      "fuzzy bunny department  203\n",
      "radioactive military grade candy coating operations  633\n",
      "international plastic grass reacquisition  467\n",
      "cryogenic dye management  159\n",
      "international flower services  226\n",
      "military grade cryogenic plastic grass training  212\n",
      "biohazardous plastic grass operations  214\n",
      "military grade scavenger hunt management  946\n",
      "unstable scavenger hunt department  893\n",
      "weaponized dye storage  789\n",
      "corrosive bunny department  308\n",
      "unstable fuzzy chocolate design  267\n",
      "cryogenic bunny training  568\n",
      "unstable egg department  231\n",
      "classified rabbit laboratory  315\n",
      "consumer grade classified rabbit operations  501\n",
      "top secret magnetic egg design  730\n",
      "cryogenic flower analysis  756\n",
      "radioactive consumer grade bunny receiving  392\n",
      "magnetic dye workshop  783\n",
      "unstable plastic grass receiving  259\n",
      "consumer grade plastic grass management  576\n",
      "classified scavenger hunt training  386\n",
      "military grade egg logistics  785\n",
      "consumer grade egg containment  999\n",
      "classified egg management  578\n",
      "fuzzy bunny services  457\n",
      "top secret colorful jellybean containment  365\n",
      "magnetic scavenger hunt logistics  380\n",
      "corrosive chocolate workshop  285\n",
      "classified dye workshop  716\n",
      "classified unstable dye customer service  214\n",
      "cryogenic bunny department  913\n",
      "biohazardous scavenger hunt services  343\n",
      "rampaging bunny operations  793\n",
      "consumer grade scavenger hunt financing  362\n",
      "top secret jellybean workshop  175\n",
      "classified egg training  841\n",
      "international fuzzy candy receiving  628\n",
      "consumer grade candy development  330\n",
      "cryogenic consumer grade rabbit training  460\n",
      "radioactive rabbit laboratory  775\n",
      "radioactive flower technology  622\n",
      "unstable jellybean sales  386\n",
      "consumer grade egg training  109\n",
      "fuzzy egg development  382\n",
      "magnetic bunny training  211\n",
      "projectile jellybean reacquisition  344\n",
      "colorful candy coating financing  358\n",
      "rampaging scavenger hunt customer service  116\n",
      "corrosive candy shipping  808\n",
      "top secret rabbit sales  659\n",
      "military grade candy financing  491\n",
      "top secret rabbit analysis  509\n",
      "unstable flower analysis  972\n",
      "classified plastic grass deployment  644\n",
      "fuzzy international chocolate containment  560\n",
      "magnetic chocolate department  615\n",
      "classified dye containment  807\n",
      "rampaging egg purchasing  386\n",
      "biohazardous rabbit purchasing  341\n",
      "northpole object storage  324\n",
      "international scavenger hunt containment  216\n",
      "military grade candy purchasing  578\n",
      "rampaging radioactive candy shipping  470\n",
      "consumer grade unstable egg user testing  508\n",
      "classified egg technology  316\n",
      "unstable chocolate sales  326\n",
      "consumer grade dye receiving  153\n",
      "biohazardous candy coating analysis  783\n",
      "classified rabbit shipping  798\n",
      "classified candy receiving  931\n",
      "corrosive bunny acquisition  941\n",
      "weaponized basket analysis  928\n",
      "classified rabbit customer service  593\n",
      "military grade consumer grade candy coating sales  986\n",
      "classified jellybean management  178\n",
      "fuzzy scavenger hunt analysis  420\n",
      "cryogenic plastic grass training  148\n",
      "top secret scavenger hunt training  820\n",
      "magnetic egg training  755\n",
      "magnetic rabbit design  297\n",
      "weaponized plastic grass management  418\n",
      "radioactive chocolate workshop  556\n",
      "international colorful plastic grass acquisition  734\n",
      "projectile colorful bunny user testing  578\n",
      "military grade egg design  913\n",
      "biohazardous radioactive candy coating receiving  414\n",
      "magnetic jellybean training  252\n",
      "consumer grade dye management  818\n",
      "magnetic bunny research  722\n",
      "weaponized projectile candy services  419\n",
      "fuzzy chocolate reacquisition  502\n",
      "biohazardous rabbit training  761\n",
      "classified rabbit management  528\n",
      "magnetic dye financing  887\n",
      "fuzzy flower containment  386\n",
      "biohazardous egg customer service  606\n",
      "consumer grade scavenger hunt customer service  331\n",
      "projectile chocolate reacquisition  535\n",
      "projectile egg sales  815\n",
      "colorful dye workshop  439\n",
      "consumer grade chocolate training  352\n",
      "consumer grade rabbit engineering  506\n",
      "colorful chocolate financing  928\n",
      "cryogenic flower management  953\n",
      "international weaponized chocolate acquisition  371\n",
      "projectile plastic grass laboratory  352\n",
      "military grade basket design  915\n",
      "cryogenic candy coating logistics  636\n",
      "colorful flower containment  955\n",
      "rampaging bunny research  218\n",
      "top secret plastic grass training  562\n",
      "classified plastic grass technology  481\n",
      "corrosive basket technology  540\n",
      "classified cryogenic dye laboratory  904\n",
      "radioactive dye reacquisition  955\n",
      "colorful candy marketing  628\n",
      "projectile bunny training  619\n",
      "weaponized chocolate receiving  148\n",
      "dye design  347\n",
      "unstable chocolate storage  379\n",
      "fuzzy top secret jellybean services  908\n",
      "unstable fuzzy rabbit customer service  803\n",
      "consumer grade basket user testing  609\n",
      "magnetic flower sales  608\n",
      "consumer grade basket management  489\n",
      "projectile basket user testing  362\n",
      "radioactive plastic grass customer service  185\n",
      "international egg purchasing  569\n",
      "fuzzy military grade bunny research  492\n",
      "corrosive egg management  120\n",
      "projectile bunny containment  684\n",
      "classified basket technology  787\n",
      "rampaging scavenger hunt user testing  787\n",
      "magnetic classified plastic grass sales  658\n",
      "weaponized rabbit analysis  705\n",
      "magnetic candy sales  873\n",
      "magnetic jellybean analysis  786\n",
      "top secret candy coating training  115\n",
      "rampaging chocolate user testing  628\n",
      "rampaging plastic grass laboratory  673\n",
      "biohazardous scavenger hunt deployment  381\n",
      "fuzzy candy department  395\n",
      "cryogenic rabbit technology  394\n",
      "weaponized flower design  771\n",
      "unstable colorful rabbit workshop  399\n",
      "unstable candy receiving  589\n",
      "radioactive basket laboratory  810\n",
      "corrosive jellybean research  567\n",
      "cryogenic plastic grass acquisition  559\n",
      "fuzzy classified flower receiving  452\n",
      "international scavenger hunt logistics  699\n",
      "projectile candy coating operations  681\n",
      "military grade magnetic plastic grass customer service  990\n",
      "biohazardous plastic grass financing  736\n",
      "consumer grade bunny storage  359\n",
      "radioactive jellybean user testing  247\n",
      "weaponized rabbit management  629\n",
      "projectile dye laboratory  175\n",
      "fuzzy basket purchasing  399\n",
      "rampaging chocolate technology  402\n",
      "colorful flower laboratory  507\n",
      "radioactive candy coating marketing  986\n",
      "colorful basket deployment  845\n",
      "corrosive scavenger hunt receiving  479\n",
      "cryogenic candy storage  585\n",
      "international basket deployment  355\n",
      "cryogenic scavenger hunt technology  285\n",
      "military grade candy coating workshop  538\n",
      "biohazardous scavenger hunt sales  228\n",
      "consumer grade jellybean research  319\n",
      "consumer grade candy purchasing  886\n",
      "fuzzy candy coating laboratory  862\n",
      "radioactive magnetic plastic grass logistics  585\n",
      "military grade rampaging bunny operations  623\n",
      "classified plastic grass containment  653\n",
      "consumer grade plastic grass analysis  525\n",
      "colorful corrosive flower purchasing  544\n",
      "projectile jellybean management  374\n",
      "projectile bunny development  110\n",
      "magnetic scavenger hunt operations  163\n",
      "top secret jellybean operations  769\n",
      "unstable flower reacquisition  564\n",
      "classified egg laboratory  410\n",
      "biohazardous jellybean technology  807\n",
      "unstable candy coating laboratory  740\n",
      "radioactive jellybean training  994\n",
      "biohazardous dye acquisition  214\n",
      "fuzzy bunny management  140\n",
      "magnetic candy research  163\n",
      "projectile basket customer service  682\n",
      "fuzzy chocolate customer service  283\n",
      "military grade scavenger hunt training  516\n",
      "biohazardous rabbit services  204\n",
      "weaponized candy coating management  142\n",
      "unstable weaponized candy coating user testing  229\n",
      "international bunny deployment  643\n",
      "corrosive chocolate operations  420\n",
      "magnetic rabbit technology  605\n",
      "cryogenic bunny shipping  863\n",
      "biohazardous bunny design  819\n",
      "international basket reacquisition  626\n",
      "classified dye analysis  262\n",
      "projectile bunny logistics  608\n",
      "corrosive flower purchasing  644\n",
      "cryogenic dye marketing  773\n",
      "rampaging candy coating laboratory  998\n",
      "fuzzy basket management  348\n",
      "consumer grade biohazardous bunny engineering  989\n",
      "consumer grade candy analysis  526\n",
      "consumer grade plastic grass engineering  951\n",
      "projectile plastic grass analysis  921\n",
      "radioactive plastic grass logistics  654\n",
      "cryogenic consumer grade candy laboratory  367\n",
      "rampaging chocolate reacquisition  976\n",
      "fuzzy jellybean training  455\n",
      "international consumer grade scavenger hunt department  557\n",
      "unstable chocolate development  769\n",
      "international candy design  901\n",
      "fuzzy chocolate receiving  841\n",
      "magnetic plastic grass shipping  669\n",
      "magnetic corrosive scavenger hunt analysis  401\n",
      "top secret plastic grass sales  743\n",
      "colorful flower acquisition  299\n",
      "military grade flower research  802\n",
      "weaponized candy coating deployment  715\n",
      "scavenger hunt training  682\n",
      "unstable basket containment  108\n",
      "top secret candy analysis  175\n",
      "projectile candy shipping  901\n",
      "projectile cryogenic rabbit management  455\n",
      "magnetic plastic grass development  389\n",
      "military grade candy coating sales  626\n",
      "classified dye development  331\n",
      "projectile candy logistics  168\n",
      "fuzzy chocolate operations  966\n"
     ]
    }
   ],
   "source": [
    "for room_data in real_rooms:\n",
    "    encrypted_name, sector_id = room_data\n",
    "    print shift_string(encrypted_name, sector_id), sector_id\n",
    "    "
   ]
  },
  {
   "cell_type": "code",
   "execution_count": null,
   "metadata": {
    "collapsed": true
   },
   "outputs": [],
   "source": []
  }
 ],
 "metadata": {
  "kernelspec": {
   "display_name": "Python 2",
   "language": "python",
   "name": "python2"
  },
  "language_info": {
   "codemirror_mode": {
    "name": "ipython",
    "version": 2
   },
   "file_extension": ".py",
   "mimetype": "text/x-python",
   "name": "python",
   "nbconvert_exporter": "python",
   "pygments_lexer": "ipython2",
   "version": "2.7.10"
  }
 },
 "nbformat": 4,
 "nbformat_minor": 2
}
